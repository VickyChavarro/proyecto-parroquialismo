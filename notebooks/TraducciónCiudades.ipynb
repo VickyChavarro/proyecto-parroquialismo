{
 "cells": [
  {
   "cell_type": "code",
   "execution_count": 5,
   "id": "a7a4e671-d891-488a-832b-78c0e99d4b14",
   "metadata": {},
   "outputs": [
    {
     "name": "stdout",
     "output_type": "stream",
     "text": [
      "   population       city     country      continent\n",
      "0    37115000      Tokyo       Japan           Asia\n",
      "1    33807400      Delhi       India           Asia\n",
      "2    29867900   Shanghai       China           Asia\n",
      "3    23935700      Dhaka  Bangladesh           Asia\n",
      "4    22806700  Sao Paulo      Brazil  South America\n"
     ]
    }
   ],
   "source": [
    "import pandas as pd\n",
    "\n",
    "# Especifica la ruta usando un raw string\n",
    "file_path = r'C:\\Users\\victo\\Downloads\\enriched-world-city-listing-updated.csv'\n",
    "\n",
    "# Cargar el archivo CSV\n",
    "df = pd.read_csv(file_path)\n",
    "\n",
    "# Mostrar las primeras filas para verificar la carga correcta\n",
    "print(df.head())\n"
   ]
  },
  {
   "cell_type": "code",
   "execution_count": 7,
   "id": "7402cb7c-5d73-4712-9cdd-09c186bb9c58",
   "metadata": {},
   "outputs": [
    {
     "name": "stdout",
     "output_type": "stream",
     "text": [
      "Requirement already satisfied: deep-translator in c:\\users\\victo\\anaconda3\\lib\\site-packages (1.11.4)\n",
      "Requirement already satisfied: beautifulsoup4<5.0.0,>=4.9.1 in c:\\users\\victo\\anaconda3\\lib\\site-packages (from deep-translator) (4.12.3)\n",
      "Requirement already satisfied: requests<3.0.0,>=2.23.0 in c:\\users\\victo\\anaconda3\\lib\\site-packages (from deep-translator) (2.32.2)\n",
      "Requirement already satisfied: soupsieve>1.2 in c:\\users\\victo\\anaconda3\\lib\\site-packages (from beautifulsoup4<5.0.0,>=4.9.1->deep-translator) (2.5)\n",
      "Requirement already satisfied: charset-normalizer<4,>=2 in c:\\users\\victo\\anaconda3\\lib\\site-packages (from requests<3.0.0,>=2.23.0->deep-translator) (2.0.4)\n",
      "Requirement already satisfied: idna<4,>=2.5 in c:\\users\\victo\\anaconda3\\lib\\site-packages (from requests<3.0.0,>=2.23.0->deep-translator) (2.10)\n",
      "Requirement already satisfied: urllib3<3,>=1.21.1 in c:\\users\\victo\\anaconda3\\lib\\site-packages (from requests<3.0.0,>=2.23.0->deep-translator) (2.2.2)\n",
      "Requirement already satisfied: certifi>=2017.4.17 in c:\\users\\victo\\anaconda3\\lib\\site-packages (from requests<3.0.0,>=2.23.0->deep-translator) (2024.8.30)\n"
     ]
    }
   ],
   "source": [
    "!pip install deep-translator"
   ]
  },
  {
   "cell_type": "code",
   "execution_count": 13,
   "id": "281cbc0a-9360-4e85-b9fd-e4d1876e4bf4",
   "metadata": {},
   "outputs": [
    {
     "name": "stdout",
     "output_type": "stream",
     "text": [
      "        city     city_in_Spanish\n",
      "0      Tokyo               Tokio\n",
      "1      Delhi               Delhi\n",
      "2   Shanghai  Llevar a la fuerza\n",
      "3      Dhaka               Dacca\n",
      "4  Sao Paulo           San Pablo\n"
     ]
    }
   ],
   "source": [
    "from deep_translator import GoogleTranslator\n",
    "import pandas as pd\n",
    "\n",
    "# Cargar el DataFrame\n",
    "file_path = r'C:\\Users\\victo\\Downloads\\enriched-world-city-listing-updated.csv'\n",
    "df = pd.read_csv(file_path)\n",
    "\n",
    "# Traductor para español\n",
    "translator = GoogleTranslator(source='auto', target='es')\n",
    "\n",
    "# Función para manejar la traducción con manejo de errores\n",
    "def translate_to_spanish(city_name):\n",
    "    try:\n",
    "        return translator.translate(city_name)\n",
    "    except Exception as e:\n",
    "        print(f\"Error al traducir {city_name}: {e}\")\n",
    "        return city_name  # Retorna el nombre original si hay un error\n",
    "\n",
    "# Aplicar la traducción\n",
    "df['city_in_Spanish'] = df['city'].apply(translate_to_spanish)\n",
    "\n",
    "# Mostrar el resultado para verificar\n",
    "print(df[['city', 'city_in_Spanish']].head())"
   ]
  },
  {
   "cell_type": "code",
   "execution_count": 15,
   "id": "3f18d7ee-78d2-4255-aead-1a95f8d000f1",
   "metadata": {},
   "outputs": [
    {
     "name": "stdout",
     "output_type": "stream",
     "text": [
      "        city city_in_Chinese\n",
      "0      Tokyo              东京\n",
      "1      Delhi              德里\n",
      "2   Shanghai              上海\n",
      "3      Dhaka              达卡\n",
      "4  Sao Paulo             圣保罗\n"
     ]
    }
   ],
   "source": [
    "# Traductor para chino simplificado\n",
    "translator = GoogleTranslator(source='auto', target='zh-CN')\n",
    "\n",
    "# Función para manejar la traducción con manejo de errores\n",
    "def translate_to_chinese(city_name):\n",
    "    try:\n",
    "        return translator.translate(city_name)\n",
    "    except Exception as e:\n",
    "        print(f\"Error al traducir {city_name}: {e}\")\n",
    "        return city_name  # Retorna el nombre original si hay un error\n",
    "\n",
    "# Aplicar la traducción\n",
    "df['city_in_Chinese'] = df['city'].apply(translate_to_chinese)\n",
    "\n",
    "# Mostrar el resultado para verificar\n",
    "print(df[['city', 'city_in_Chinese']].head())\n"
   ]
  },
  {
   "cell_type": "code",
   "execution_count": 17,
   "id": "7daf0c54-4286-4aa0-b70c-ef9d86d5bb1d",
   "metadata": {},
   "outputs": [
    {
     "name": "stdout",
     "output_type": "stream",
     "text": [
      "        city city_in_Arabic\n",
      "0      Tokyo          طوكيو\n",
      "1      Delhi           دلهي\n",
      "2   Shanghai         شنغهاي\n",
      "3      Dhaka            دكا\n",
      "4  Sao Paulo      ساو باولو\n"
     ]
    }
   ],
   "source": [
    "# Traductor para árabe\n",
    "translator = GoogleTranslator(source='auto', target='ar')\n",
    "\n",
    "# Función para manejar la traducción con manejo de errores\n",
    "def translate_to_arabic(city_name):\n",
    "    try:\n",
    "        return translator.translate(city_name)\n",
    "    except Exception as e:\n",
    "        print(f\"Error al traducir {city_name}: {e}\")\n",
    "        return city_name  # Retorna el nombre original si hay un error\n",
    "\n",
    "# Aplicar la traducción\n",
    "df['city_in_Arabic'] = df['city'].apply(translate_to_arabic)\n",
    "\n",
    "# Mostrar el resultado para verificar\n",
    "print(df[['city', 'city_in_Arabic']].head())\n"
   ]
  },
  {
   "cell_type": "code",
   "execution_count": 18,
   "id": "1fea0b0b-ce8f-4839-8912-8b9bdb8cc40b",
   "metadata": {},
   "outputs": [
    {
     "name": "stdout",
     "output_type": "stream",
     "text": [
      "        city city_in_Indonesian\n",
      "0      Tokyo              Tokyo\n",
      "1      Delhi              Delhi\n",
      "2   Shanghai      Kota Shanghai\n",
      "3      Dhaka         Kota Dhaka\n",
      "4  Sao Paulo          Sao Paulo\n"
     ]
    }
   ],
   "source": [
    "# Traductor para indonesio\n",
    "translator = GoogleTranslator(source='auto', target='id')\n",
    "\n",
    "# Función para manejar la traducción con manejo de errores\n",
    "def translate_to_indonesian(city_name): \n",
    "    try:\n",
    "        return translator.translate(city_name)\n",
    "    except Exception as e:\n",
    "        print(f\"Error al traducir {city_name}: {e}\")\n",
    "        return city_name  # Retorna el nombre original si hay un error\n",
    "\n",
    "# Aplicar la traducción\n",
    "df['city_in_Indonesian'] = df['city'].apply(translate_to_indonesian)\n",
    "\n",
    "# Mostrar el resultado para verificar\n",
    "print(df[['city', 'city_in_Indonesian']].head())\n"
   ]
  },
  {
   "cell_type": "code",
   "execution_count": 21,
   "id": "6e079b65-0d51-4431-84e1-846728878ee3",
   "metadata": {},
   "outputs": [
    {
     "name": "stdout",
     "output_type": "stream",
     "text": [
      "        city city_in_Swahili\n",
      "0      Tokyo           Tokyo\n",
      "1      Delhi           Delhi\n",
      "2   Shanghai        Shanghai\n",
      "3      Dhaka           Dhaka\n",
      "4  Sao Paulo       São Paulo\n"
     ]
    }
   ],
   "source": [
    "# Traductor para suajili\n",
    "translator = GoogleTranslator(source='auto', target='sw')\n",
    "\n",
    "# Función para manejar la traducción con manejo de errores\n",
    "def translate_to_swahili(city_name):\n",
    "    try:\n",
    "        return translator.translate(city_name)\n",
    "    except Exception as e:\n",
    "        print(f\"Error al traducir {city_name}: {e}\")\n",
    "        return city_name\n",
    "\n",
    "# Aplicar la traducción\n",
    "df['city_in_Swahili'] = df['city'].apply(translate_to_swahili)\n",
    "\n",
    "# Mostrar el resultado para verificar\n",
    "print(df[['city', 'city_in_Swahili']].head())\n"
   ]
  },
  {
   "cell_type": "code",
   "execution_count": 23,
   "id": "c26f7927-89bf-49b5-b6f5-cfe9342aff86",
   "metadata": {},
   "outputs": [
    {
     "name": "stdout",
     "output_type": "stream",
     "text": [
      "        city city_in_Tamil\n",
      "0      Tokyo      டோக்கியோ\n",
      "1      Delhi        டெல்லி\n",
      "2   Shanghai      ஷாங்காய்\n",
      "3      Dhaka        டாக்கா\n",
      "4  Sao Paulo     சாவ் பாலோ\n"
     ]
    }
   ],
   "source": [
    "# Traductor para tamil\n",
    "translator = GoogleTranslator(source='auto', target='ta')\n",
    "\n",
    "# Función para manejar la traducción con manejo de errores\n",
    "def translate_to_tamil(city_name):\n",
    "    try:\n",
    "        return translator.translate(city_name)\n",
    "    except Exception as e:\n",
    "        print(f\"Error al traducir {city_name}: {e}\")\n",
    "        return city_name\n",
    "\n",
    "# Aplicar la traducción\n",
    "df['city_in_Tamil'] = df['city'].apply(translate_to_tamil)\n",
    "\n",
    "# Mostrar el resultado para verificar\n",
    "print(df[['city', 'city_in_Tamil']].head())\n"
   ]
  },
  {
   "cell_type": "code",
   "execution_count": 24,
   "id": "089dbb1f-5e56-4391-90c9-891ac10b8b2f",
   "metadata": {},
   "outputs": [
    {
     "name": "stdout",
     "output_type": "stream",
     "text": [
      "        city city_in_Turkish\n",
      "0      Tokyo           Tokyo\n",
      "1      Delhi           Delhi\n",
      "2   Shanghai         Şanghay\n",
      "3      Dhaka           Dakka\n",
      "4  Sao Paulo       Sao Paulo\n"
     ]
    }
   ],
   "source": [
    "# Traductor para turco\n",
    "translator = GoogleTranslator(source='auto', target='tr')\n",
    "\n",
    "# Función para manejar la traducción con manejo de errores\n",
    "def translate_to_turkish(city_name):\n",
    "    try:\n",
    "        return translator.translate(city_name)\n",
    "    except Exception as e:\n",
    "        print(f\"Error al traducir {city_name}: {e}\")\n",
    "        return city_name\n",
    "\n",
    "# Aplicar la traducción\n",
    "df['city_in_Turkish'] = df['city'].apply(translate_to_turkish)\n",
    "\n",
    "# Mostrar el resultado para verificar\n",
    "print(df[['city', 'city_in_Turkish']].head())\n"
   ]
  },
  {
   "cell_type": "code",
   "execution_count": 25,
   "id": "790c9884-fca4-4c08-b692-5ed38ac59f02",
   "metadata": {},
   "outputs": [
    {
     "name": "stdout",
     "output_type": "stream",
     "text": [
      "        city city_in_Finnish\n",
      "0      Tokyo           Tokio\n",
      "1      Delhi           Delhi\n",
      "2   Shanghai        Shanghai\n",
      "3      Dhaka           Dhaka\n",
      "4  Sao Paulo       São Paulo\n"
     ]
    }
   ],
   "source": [
    "# Traductor para finés\n",
    "translator = GoogleTranslator(source='auto', target='fi')\n",
    "\n",
    "# Función para manejar la traducción con manejo de errores\n",
    "def translate_to_finnish(city_name):\n",
    "    try:\n",
    "        return translator.translate(city_name)\n",
    "    except Exception as e:\n",
    "        print(f\"Error al traducir {city_name}: {e}\")\n",
    "        return city_name\n",
    "\n",
    "# Aplicar la traducción\n",
    "df['city_in_Finnish'] = df['city'].apply(translate_to_finnish)\n",
    "\n",
    "# Mostrar el resultado para verificar\n",
    "print(df[['city', 'city_in_Finnish']].head())\n"
   ]
  },
  {
   "cell_type": "code",
   "execution_count": 27,
   "id": "b902ba9b-5af9-41d6-8c0f-ed7f36f47d43",
   "metadata": {},
   "outputs": [
    {
     "name": "stdout",
     "output_type": "stream",
     "text": [
      "        city city_in_Japanese\n",
      "0      Tokyo               東京\n",
      "1      Delhi              デリー\n",
      "2   Shanghai               上海\n",
      "3      Dhaka              ダッカ\n",
      "4  Sao Paulo            サンパウロ\n"
     ]
    }
   ],
   "source": [
    "# Traductor para japonés\n",
    "translator = GoogleTranslator(source='auto', target='ja')\n",
    "\n",
    "# Función para manejar la traducción con manejo de errores\n",
    "def translate_to_japanese(city_name):\n",
    "    try:\n",
    "        return translator.translate(city_name)\n",
    "    except Exception as e:\n",
    "        print(f\"Error al traducir {city_name}: {e}\")\n",
    "        return city_name\n",
    "\n",
    "# Aplicar la traducción\n",
    "df['city_in_Japanese'] = df['city'].apply(translate_to_japanese)\n",
    "\n",
    "# Mostrar el resultado para verificar\n",
    "print(df[['city', 'city_in_Japanese']].head())\n"
   ]
  },
  {
   "cell_type": "code",
   "execution_count": 28,
   "id": "aae535d9-3998-4f25-a5b2-9d27f1d12724",
   "metadata": {},
   "outputs": [
    {
     "name": "stdout",
     "output_type": "stream",
     "text": [
      "        city city_in_Korean\n",
      "0      Tokyo             도쿄\n",
      "1      Delhi             델리\n",
      "2   Shanghai            상하이\n",
      "3      Dhaka             다카\n",
      "4  Sao Paulo           상파울루\n"
     ]
    }
   ],
   "source": [
    "# Traductor para coreano\n",
    "translator = GoogleTranslator(source='auto', target='ko')\n",
    "\n",
    "# Función para manejar la traducción con manejo de errores\n",
    "def translate_to_korean(city_name):\n",
    "    try:\n",
    "        return translator.translate(city_name)\n",
    "    except Exception as e:\n",
    "        print(f\"Error al traducir {city_name}: {e}\")\n",
    "        return city_name\n",
    "\n",
    "# Aplicar la traducción\n",
    "df['city_in_Korean'] = df['city'].apply(translate_to_korean)\n",
    "\n",
    "# Mostrar el resultado para verificar\n",
    "print(df[['city', 'city_in_Korean']].head())\n"
   ]
  },
  {
   "cell_type": "code",
   "execution_count": 29,
   "id": "7edd58ca-07b6-4bae-b39a-afc1d41c64f4",
   "metadata": {},
   "outputs": [
    {
     "name": "stdout",
     "output_type": "stream",
     "text": [
      "        city city_in_Vietnamese\n",
      "0      Tokyo              Tokyo\n",
      "1      Delhi              Đê-li\n",
      "2   Shanghai         Thượng Hải\n",
      "3      Dhaka             Đắc-ca\n",
      "4  Sao Paulo          Sao Paulo\n"
     ]
    }
   ],
   "source": [
    "# Traductor para vietnamita\n",
    "translator = GoogleTranslator(source='auto', target='vi')\n",
    "\n",
    "# Función para manejar la traducción con manejo de errores\n",
    "def translate_to_vietnamese(city_name):\n",
    "    try:\n",
    "        return translator.translate(city_name)\n",
    "    except Exception as e:\n",
    "        print(f\"Error al traducir {city_name}: {e}\")\n",
    "        return city_name\n",
    "\n",
    "# Aplicar la traducción\n",
    "df['city_in_Vietnamese'] = df['city'].apply(translate_to_vietnamese)\n",
    "\n",
    "# Mostrar el resultado para verificar\n",
    "print(df[['city', 'city_in_Vietnamese']].head())\n"
   ]
  },
  {
   "cell_type": "code",
   "execution_count": 30,
   "id": "ca957d5c-8060-4b3e-822d-a366fcabc6fd",
   "metadata": {},
   "outputs": [
    {
     "name": "stdout",
     "output_type": "stream",
     "text": [
      "        city city_in_Thai\n",
      "0      Tokyo      โตเกียว\n",
      "1      Delhi         เดลี\n",
      "2   Shanghai    เซี่ยงไฮ้\n",
      "3      Dhaka         ธากา\n",
      "4  Sao Paulo     เซาเปาโล\n"
     ]
    }
   ],
   "source": [
    "# Traductor para tailandés\n",
    "translator = GoogleTranslator(source='auto', target='th')\n",
    "\n",
    "# Función para manejar la traducción con manejo de errores\n",
    "def translate_to_thai(city_name):\n",
    "    try:\n",
    "        return translator.translate(city_name)\n",
    "    except Exception as e:\n",
    "        print(f\"Error al traducir {city_name}: {e}\")\n",
    "        return city_name\n",
    "\n",
    "# Aplicar la traducción\n",
    "df['city_in_Thai'] = df['city'].apply(translate_to_thai)\n",
    "\n",
    "# Mostrar el resultado para verificar\n",
    "print(df[['city', 'city_in_Thai']].head())\n"
   ]
  },
  {
   "cell_type": "code",
   "execution_count": 37,
   "id": "ea98da78-d036-4c0e-8694-62b3783e3a97",
   "metadata": {},
   "outputs": [
    {
     "name": "stdout",
     "output_type": "stream",
     "text": [
      "   population       city     country      continent     city_in_Spanish  \\\n",
      "0    37115000      Tokyo       Japan           Asia               Tokio   \n",
      "1    33807400      Delhi       India           Asia               Delhi   \n",
      "2    29867900   Shanghai       China           Asia  Llevar a la fuerza   \n",
      "3    23935700      Dhaka  Bangladesh           Asia               Dacca   \n",
      "4    22806700  Sao Paulo      Brazil  South America           San Pablo   \n",
      "\n",
      "  city_in_Chinese city_in_Arabic city_in_Indonesian city_in_Swahili  \\\n",
      "0              东京          طوكيو              Tokyo           Tokyo   \n",
      "1              德里           دلهي              Delhi           Delhi   \n",
      "2              上海         شنغهاي      Kota Shanghai        Shanghai   \n",
      "3              达卡            دكا         Kota Dhaka           Dhaka   \n",
      "4             圣保罗      ساو باولو          Sao Paulo       São Paulo   \n",
      "\n",
      "  city_in_Tamil city_in_Turkish city_in_Finnish city_in_Japanese  \\\n",
      "0      டோக்கியோ           Tokyo           Tokio               東京   \n",
      "1        டெல்லி           Delhi           Delhi              デリー   \n",
      "2      ஷாங்காய்         Şanghay        Shanghai               上海   \n",
      "3        டாக்கா           Dakka           Dhaka              ダッカ   \n",
      "4     சாவ் பாலோ       Sao Paulo       São Paulo            サンパウロ   \n",
      "\n",
      "  city_in_Korean city_in_Vietnamese city_in_Thai  \n",
      "0             도쿄              Tokyo      โตเกียว  \n",
      "1             델리              Đê-li         เดลี  \n",
      "2            상하이         Thượng Hải    เซี่ยงไฮ้  \n",
      "3             다카             Đắc-ca         ธากา  \n",
      "4           상파울루          Sao Paulo     เซาเปาโล  \n"
     ]
    }
   ],
   "source": [
    "import pandas as pd\n",
    "\n",
    "# Asegurarse de cargar el DataFrame original si no está ya cargado\n",
    "file_path = r'C:\\Users\\victo\\Downloads\\enriched-world-city-listing-updated.csv'\n",
    "df_original = pd.read_csv(file_path)\n",
    "\n",
    "# Suponiendo que `df` es el DataFrame donde has añadido las traducciones\n",
    "# Combinar el DataFrame original con las nuevas columnas de traducciones\n",
    "# Asegúrate de que ambos DataFrames estén alineados por índice si los índices representan las mismas entidades\n",
    "\n",
    "df_combined = pd.concat([df_original, df[['city_in_Spanish', 'city_in_Chinese', 'city_in_Arabic', 'city_in_Indonesian', 'city_in_Swahili', \n",
    "                                          'city_in_Tamil', 'city_in_Turkish', 'city_in_Finnish', 'city_in_Japanese', \n",
    "                                          'city_in_Korean', 'city_in_Vietnamese', 'city_in_Thai']]], axis=1)\n",
    "\n",
    "# Guardar el DataFrame combinado en un nuevo archivo CSV\n",
    "output_file_path = r'C:\\Users\\victo\\Downloads\\enriched-world-city-listing-complete.csv'\n",
    "df_combined.to_csv(output_file_path, index=False)\n",
    "\n",
    "# Verificar mostrando las primeras filas del DataFrame combinado\n",
    "print(df_combined.head())\n"
   ]
  },
  {
   "cell_type": "code",
   "execution_count": 41,
   "id": "9ff0329d-1974-43c8-94cb-879c4bbe7a12",
   "metadata": {},
   "outputs": [],
   "source": [
    "from deep_translator import GoogleTranslator\n",
    "\n",
    "# Cargar el DataFrame modificado si no está ya cargado\n",
    "import pandas as pd\n",
    "file_path = r'C:\\Users\\victo\\Downloads\\enriched-world-city-listing-complete.csv'\n",
    "df = pd.read_csv(file_path)\n"
   ]
  },
  {
   "cell_type": "code",
   "execution_count": 43,
   "id": "85c94043-16a6-4571-bebb-6d63c899d681",
   "metadata": {},
   "outputs": [
    {
     "name": "stdout",
     "output_type": "stream",
     "text": [
      "        city     city_in_Spanish city_from_Spanish_to_English\n",
      "0      Tokyo               Tokio                        Tokio\n",
      "1      Delhi               Delhi                        Delhi\n",
      "2   Shanghai  Llevar a la fuerza                    Carry off\n",
      "3      Dhaka               Dacca                        Dacca\n",
      "4  Sao Paulo           San Pablo                   Saint Paul\n"
     ]
    }
   ],
   "source": [
    "# Traductor para volver al inglés desde español\n",
    "translator = GoogleTranslator(source='auto', target='en')\n",
    "\n",
    "# Función para manejar la back translation con manejo de errores\n",
    "def back_translate_to_english(city_name):\n",
    "    try:\n",
    "        return translator.translate(city_name)\n",
    "    except Exception as e:\n",
    "        print(f\"Error al hacer back translation de {city_name}: {e}\")\n",
    "        return city_name  # Retorna el nombre original si hay un error\n",
    "\n",
    "# Aplicar la back translation\n",
    "df['city_from_Spanish_to_English'] = df['city_in_Spanish'].apply(back_translate_to_english)\n",
    "\n",
    "# Mostrar el resultado para verificar\n",
    "print(df[['city', 'city_in_Spanish', 'city_from_Spanish_to_English']].head())\n"
   ]
  },
  {
   "cell_type": "code",
   "execution_count": 44,
   "id": "106b10a4-0594-435a-bcfa-099a971cb35e",
   "metadata": {},
   "outputs": [
    {
     "name": "stdout",
     "output_type": "stream",
     "text": [
      "        city city_in_Chinese city_from_Chinese_to_English\n",
      "0      Tokyo              东京                        Tokyo\n",
      "1      Delhi              德里                        Delhi\n",
      "2   Shanghai              上海                     Shanghai\n",
      "3      Dhaka              达卡                        Dhaka\n",
      "4  Sao Paulo             圣保罗                    Sao Paulo\n"
     ]
    }
   ],
   "source": [
    "# Traductor para volver al inglés desde chino\n",
    "translator = GoogleTranslator(source='auto', target='en')\n",
    "\n",
    "# Aplicar la back translation\n",
    "df['city_from_Chinese_to_English'] = df['city_in_Chinese'].apply(back_translate_to_english)\n",
    "\n",
    "# Mostrar el resultado para verificar\n",
    "print(df[['city', 'city_in_Chinese', 'city_from_Chinese_to_English']].head())\n"
   ]
  },
  {
   "cell_type": "code",
   "execution_count": 45,
   "id": "86a04293-c305-4303-a08a-c80e86a9baab",
   "metadata": {},
   "outputs": [
    {
     "name": "stdout",
     "output_type": "stream",
     "text": [
      "        city city_in_Arabic city_from_Arabic_to_English\n",
      "0      Tokyo          طوكيو                       Tokyo\n",
      "1      Delhi           دلهي                       Delhi\n",
      "2   Shanghai         شنغهاي                    Shanghai\n",
      "3      Dhaka            دكا                       Dhaka\n",
      "4  Sao Paulo      ساو باولو                   Sao Paulo\n"
     ]
    }
   ],
   "source": [
    "# Traductor para volver al inglés desde árabe\n",
    "translator = GoogleTranslator(source='auto', target='en')\n",
    "\n",
    "# Aplicar la back translation\n",
    "df['city_from_Arabic_to_English'] = df['city_in_Arabic'].apply(back_translate_to_english)\n",
    "\n",
    "# Mostrar el resultado para verificar\n",
    "print(df[['city', 'city_in_Arabic', 'city_from_Arabic_to_English']].head())\n"
   ]
  },
  {
   "cell_type": "code",
   "execution_count": 49,
   "id": "6517482c-d122-492e-b9fc-b4c6dc824b04",
   "metadata": {},
   "outputs": [
    {
     "name": "stdout",
     "output_type": "stream",
     "text": [
      "        city city_in_Indonesian city_from_Indonesian_to_English\n",
      "0      Tokyo              Tokyo                           Tokyo\n",
      "1      Delhi              Delhi                           Delhi\n",
      "2   Shanghai      Kota Shanghai                   Shanghai City\n",
      "3      Dhaka         Kota Dhaka                      Dhaka City\n",
      "4  Sao Paulo          Sao Paulo                       São Paulo\n"
     ]
    }
   ],
   "source": [
    "# Traductor para volver al inglés desde indonesio\n",
    "translator = GoogleTranslator(source='auto', target='en')\n",
    "\n",
    "# Aplicar la back translation\n",
    "df['city_from_Indonesian_to_English'] = df['city_in_Indonesian'].apply(back_translate_to_english)\n",
    "\n",
    "# Mostrar el resultado para verificar\n",
    "print(df[['city', 'city_in_Indonesian', 'city_from_Indonesian_to_English']].head())\n"
   ]
  },
  {
   "cell_type": "code",
   "execution_count": 50,
   "id": "d5aa3b78-c905-42af-ab1c-745b57d67716",
   "metadata": {},
   "outputs": [
    {
     "name": "stdout",
     "output_type": "stream",
     "text": [
      "        city city_in_Swahili city_from_Swahili_to_English\n",
      "0      Tokyo           Tokyo                        Tokyo\n",
      "1      Delhi           Delhi                        Delhi\n",
      "2   Shanghai        Shanghai                     Shanghai\n",
      "3      Dhaka           Dhaka                        Dhaka\n",
      "4  Sao Paulo       São Paulo                    São Paulo\n"
     ]
    }
   ],
   "source": [
    "# Traductor para volver al inglés desde suajili\n",
    "translator = GoogleTranslator(source='auto', target='en')\n",
    "\n",
    "# Aplicar la back translation\n",
    "df['city_from_Swahili_to_English'] = df['city_in_Swahili'].apply(back_translate_to_english)\n",
    "\n",
    "# Mostrar el resultado para verificar\n",
    "print(df[['city', 'city_in_Swahili', 'city_from_Swahili_to_English']].head())\n"
   ]
  },
  {
   "cell_type": "code",
   "execution_count": 51,
   "id": "3339fae6-0ebd-4d98-a2ba-f9ca56b66f45",
   "metadata": {},
   "outputs": [
    {
     "name": "stdout",
     "output_type": "stream",
     "text": [
      "        city city_in_Tamil city_from_Tamil_to_English\n",
      "0      Tokyo      டோக்கியோ                      Tokyo\n",
      "1      Delhi        டெல்லி                      Delhi\n",
      "2   Shanghai      ஷாங்காய்                   Shanghai\n",
      "3      Dhaka        டாக்கா                      Dhaka\n",
      "4  Sao Paulo     சாவ் பாலோ                  Sao Paulo\n"
     ]
    }
   ],
   "source": [
    "# Traductor para volver al inglés desde tamil\n",
    "translator = GoogleTranslator(source='auto', target='en')\n",
    "\n",
    "# Aplicar la back translation\n",
    "df['city_from_Tamil_to_English'] = df['city_in_Tamil'].apply(back_translate_to_english)\n",
    "\n",
    "# Mostrar el resultado para verificar\n",
    "print(df[['city', 'city_in_Tamil', 'city_from_Tamil_to_English']].head())\n"
   ]
  },
  {
   "cell_type": "code",
   "execution_count": 52,
   "id": "f6f78c1b-315b-4438-991c-3aef38b6a85d",
   "metadata": {},
   "outputs": [
    {
     "name": "stdout",
     "output_type": "stream",
     "text": [
      "        city city_in_Turkish city_from_Turkish_to_English\n",
      "0      Tokyo           Tokyo                        Tokyo\n",
      "1      Delhi           Delhi                        Delhi\n",
      "2   Shanghai         Şanghay                     Shanghai\n",
      "3      Dhaka           Dakka                        Dhaka\n",
      "4  Sao Paulo       Sao Paulo                    São Paulo\n"
     ]
    }
   ],
   "source": [
    "# Traductor para volver al inglés desde turco\n",
    "translator = GoogleTranslator(source='auto', target='en')\n",
    "\n",
    "# Aplicar la back translation\n",
    "df['city_from_Turkish_to_English'] = df['city_in_Turkish'].apply(back_translate_to_english)\n",
    "\n",
    "# Mostrar el resultado para verificar\n",
    "print(df[['city', 'city_in_Turkish', 'city_from_Turkish_to_English']].head())\n"
   ]
  },
  {
   "cell_type": "code",
   "execution_count": 57,
   "id": "d5d2396f-f3f7-442d-9049-9b15175f3731",
   "metadata": {},
   "outputs": [
    {
     "name": "stdout",
     "output_type": "stream",
     "text": [
      "        city city_in_Finnish city_from_Finnish_to_English\n",
      "0      Tokyo           Tokio                        Tokio\n",
      "1      Delhi           Delhi                        Delhi\n",
      "2   Shanghai        Shanghai                     Shanghai\n",
      "3      Dhaka           Dhaka                        Dhaka\n",
      "4  Sao Paulo       São Paulo                    São Paulo\n"
     ]
    }
   ],
   "source": [
    "# Traductor para volver al inglés desde finés\n",
    "translator = GoogleTranslator(source='auto', target='en')\n",
    "\n",
    "# Aplicar la back translation\n",
    "df['city_from_Finnish_to_English'] = df['city_in_Finnish'].apply(back_translate_to_english)\n",
    "\n",
    "# Mostrar el resultado para verificar\n",
    "print(df[['city', 'city_in_Finnish', 'city_from_Finnish_to_English']].head())\n"
   ]
  },
  {
   "cell_type": "code",
   "execution_count": 58,
   "id": "8280d5cf-0e2f-4214-a9f8-8d7541e2781b",
   "metadata": {},
   "outputs": [
    {
     "name": "stdout",
     "output_type": "stream",
     "text": [
      "        city city_in_Japanese city_from_Japanese_to_English\n",
      "0      Tokyo               東京                         Tokyo\n",
      "1      Delhi              デリー                         Delhi\n",
      "2   Shanghai               上海                      Shanghai\n",
      "3      Dhaka              ダッカ                         Dhaka\n",
      "4  Sao Paulo            サンパウロ                     Sao Paulo\n"
     ]
    }
   ],
   "source": [
    "# Traductor para volver al inglés desde japonés\n",
    "translator = GoogleTranslator(source='auto', target='en')\n",
    "\n",
    "# Aplicar la back translation\n",
    "df['city_from_Japanese_to_English'] = df['city_in_Japanese'].apply(back_translate_to_english)\n",
    "\n",
    "# Mostrar el resultado para verificar\n",
    "print(df[['city', 'city_in_Japanese', 'city_from_Japanese_to_English']].head())\n"
   ]
  },
  {
   "cell_type": "code",
   "execution_count": 59,
   "id": "5e779161-67d0-4f48-ad6e-ef98a852cbbb",
   "metadata": {},
   "outputs": [
    {
     "name": "stdout",
     "output_type": "stream",
     "text": [
      "        city city_in_Korean city_from_Korean_to_English\n",
      "0      Tokyo             도쿄                       Tokyo\n",
      "1      Delhi             델리                       Delhi\n",
      "2   Shanghai            상하이                    Shanghai\n",
      "3      Dhaka             다카                        Taka\n",
      "4  Sao Paulo           상파울루                   Sao Paulo\n"
     ]
    }
   ],
   "source": [
    "# Traductor para volver al inglés desde coreano\n",
    "translator = GoogleTranslator(source='auto', target='en')\n",
    "\n",
    "# Aplicar la back translation\n",
    "df['city_from_Korean_to_English'] = df['city_in_Korean'].apply(back_translate_to_english)\n",
    "\n",
    "# Mostrar el resultado para verificar\n",
    "print(df[['city', 'city_in_Korean', 'city_from_Korean_to_English']].head())\n"
   ]
  },
  {
   "cell_type": "code",
   "execution_count": 60,
   "id": "ccceb601-473e-474a-b24e-1fb23d54cd99",
   "metadata": {},
   "outputs": [
    {
     "name": "stdout",
     "output_type": "stream",
     "text": [
      "        city city_in_Vietnamese city_from_Vietnamese_to_English\n",
      "0      Tokyo              Tokyo                           Tokyo\n",
      "1      Delhi              Đê-li                           Delhi\n",
      "2   Shanghai         Thượng Hải                        Shanghai\n",
      "3      Dhaka             Đắc-ca                          Dak-ca\n",
      "4  Sao Paulo          Sao Paulo                       São Paulo\n"
     ]
    }
   ],
   "source": [
    "# Traductor para volver al inglés desde vietnamita\n",
    "translator = GoogleTranslator(source='auto', target='en')\n",
    "\n",
    "# Aplicar la back translation\n",
    "df['city_from_Vietnamese_to_English'] = df['city_in_Vietnamese'].apply(back_translate_to_english)\n",
    "\n",
    "# Mostrar el resultado para verificar\n",
    "print(df[['city', 'city_in_Vietnamese', 'city_from_Vietnamese_to_English']].head())\n"
   ]
  },
  {
   "cell_type": "code",
   "execution_count": 66,
   "id": "2562fb02-f6f8-4563-b85d-e201862c9461",
   "metadata": {},
   "outputs": [
    {
     "name": "stdout",
     "output_type": "stream",
     "text": [
      "        city city_in_Thai city_from_Thai_to_English\n",
      "0      Tokyo      โตเกียว                     Tokyo\n",
      "1      Delhi         เดลี                     Delhi\n",
      "2   Shanghai    เซี่ยงไฮ้                  Shanghai\n",
      "3      Dhaka         ธากา                     Dhaka\n",
      "4  Sao Paulo     เซาเปาโล                 Sao Paulo\n"
     ]
    }
   ],
   "source": [
    "# Traductor para volver al inglés desde tailandés\n",
    "translator = GoogleTranslator(source='auto', target='en')\n",
    "\n",
    "# Aplicar la back translation\n",
    "df['city_from_Thai_to_English'] = df['city_in_Thai'].apply(back_translate_to_english)\n",
    "\n",
    "# Mostrar el resultado para verificar\n",
    "print(df[['city', 'city_in_Thai', 'city_from_Thai_to_English']].head())\n"
   ]
  },
  {
   "cell_type": "code",
   "execution_count": 68,
   "id": "b90ca591-1adf-4c2a-9339-3a756f12e4af",
   "metadata": {},
   "outputs": [],
   "source": [
    "# Guardar el DataFrame final con todas las back translations\n",
    "df.to_csv(r'C:\\Users\\victo\\Downloads\\enriched-world-city-listing-final.csv', index=False)"
   ]
  }
 ],
 "metadata": {
  "kernelspec": {
   "display_name": "Python 3 (ipykernel)",
   "language": "python",
   "name": "python3"
  },
  "language_info": {
   "codemirror_mode": {
    "name": "ipython",
    "version": 3
   },
   "file_extension": ".py",
   "mimetype": "text/x-python",
   "name": "python",
   "nbconvert_exporter": "python",
   "pygments_lexer": "ipython3",
   "version": "3.12.4"
  }
 },
 "nbformat": 4,
 "nbformat_minor": 5
}
